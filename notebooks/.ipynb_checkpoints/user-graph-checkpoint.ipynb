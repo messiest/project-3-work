{
 "cells": [
  {
   "cell_type": "markdown",
   "metadata": {},
   "source": [
    "# Reddit User Graph\n",
    "\n",
    "Generate graph of user posts, where the nodes are individual subreddits and the edges indicate that a user has posted in both subreddits."
   ]
  },
  {
   "cell_type": "code",
   "execution_count": 1,
   "metadata": {},
   "outputs": [],
   "source": [
    "% matplotlib inline\n",
    "\n",
    "import pandas as pd\n",
    "import networkx as nx\n",
    "import itertools\n",
    "import numpy as np\n",
    "\n",
    "import matplotlib.pyplot as plt\n",
    "\n",
    "plt.rcParams['figure.figsize'] = 40, 40\n",
    "# plt.rcParams['figure.dpi'] = 120"
   ]
  },
  {
   "cell_type": "code",
   "execution_count": 4,
   "metadata": {},
   "outputs": [],
   "source": [
    "df = pd.read_csv('../cleaned_data/processed_data.csv')         # import data\n",
    "df = df.drop_duplicates(['author', 'title'], keep='last')     # keep only the most recent duplicate\n",
    "df = df[['author', 'subreddit']]\n",
    "df = df[df['author'] != 'AutoModerator']                      # remove posts from the moderator bot\n",
    "df = df.dropna()"
   ]
  },
  {
   "cell_type": "code",
   "execution_count": 5,
   "metadata": {},
   "outputs": [
    {
     "data": {
      "text/plain": [
       "(2189135, 2)"
      ]
     },
     "execution_count": 5,
     "metadata": {},
     "output_type": "execute_result"
    }
   ],
   "source": [
    "df.shape"
   ]
  },
  {
   "cell_type": "code",
   "execution_count": 6,
   "metadata": {},
   "outputs": [],
   "source": [
    "df = df.sample(frac=.1)"
   ]
  },
  {
   "cell_type": "code",
   "execution_count": 7,
   "metadata": {},
   "outputs": [
    {
     "data": {
      "text/plain": [
       "(218914, 2)"
      ]
     },
     "execution_count": 7,
     "metadata": {},
     "output_type": "execute_result"
    }
   ],
   "source": [
    "df.shape"
   ]
  },
  {
   "cell_type": "markdown",
   "metadata": {},
   "source": [
    "## Build dictionary of user posts"
   ]
  },
  {
   "cell_type": "code",
   "execution_count": null,
   "metadata": {
    "scrolled": true
   },
   "outputs": [],
   "source": [
    "user_posts = {}\n",
    "\n",
    "for i, row in df.iterrows():        \n",
    "    user = row['author']\n",
    "    subreddit = row['subreddit']\n",
    "    \n",
    "    if user not in user_posts.keys():\n",
    "        user_posts[user] = []\n",
    "    \n",
    "    if subreddit not in user_posts[user]:\n",
    "        user_posts[user].append(subreddit)\n",
    "        "
   ]
  },
  {
   "cell_type": "markdown",
   "metadata": {},
   "source": [
    "## Setting up `NetworkX` graph"
   ]
  },
  {
   "cell_type": "markdown",
   "metadata": {},
   "source": [
    "### Extract nodes and edges"
   ]
  },
  {
   "cell_type": "code",
   "execution_count": null,
   "metadata": {},
   "outputs": [],
   "source": [
    "nodes = []\n",
    "edges = []\n",
    "\n",
    "\n",
    "\n",
    "for user in user_posts.keys():\n",
    "    if len(user_posts[user]) > 1:\n",
    "        \n",
    "        subreddits = sorted(user_posts[user])\n",
    "        \n",
    "        for subreddit in subreddits:\n",
    "            if subreddit not in nodes:\n",
    "                nodes.append(subreddit)\n",
    "                \n",
    "        _edges = [edge for edge in itertools.combinations(subreddits, 2)]\n",
    "        for edge in _edges:\n",
    "            if edge not in edges:\n",
    "                edges.append(edge)\n",
    "\n",
    "print('Nodes: {}, Edges: {}'.format(len(nodes), len(edges)))    "
   ]
  },
  {
   "cell_type": "markdown",
   "metadata": {},
   "source": [
    "### Building the graph"
   ]
  },
  {
   "cell_type": "code",
   "execution_count": null,
   "metadata": {},
   "outputs": [],
   "source": [
    "reddit_graph = nx.Graph()"
   ]
  },
  {
   "cell_type": "code",
   "execution_count": null,
   "metadata": {},
   "outputs": [],
   "source": [
    "reddit_graph.add_nodes_from(nodes)\n",
    "reddit_graph.add_edges_from(edges)"
   ]
  },
  {
   "cell_type": "code",
   "execution_count": null,
   "metadata": {},
   "outputs": [],
   "source": [
    "print(\"Reddit Graph - Nodes: {}, Edges: {}\".format(reddit_graph.number_of_nodes(), reddit_graph.number_of_edges()))"
   ]
  },
  {
   "cell_type": "code",
   "execution_count": null,
   "metadata": {},
   "outputs": [],
   "source": [
    "# nx.draw(reddit_graph, with_labels=True)"
   ]
  },
  {
   "cell_type": "markdown",
   "metadata": {},
   "source": [
    "This isn't exactly interpretable, so let's adjust the plotting of the graph."
   ]
  },
  {
   "cell_type": "code",
   "execution_count": null,
   "metadata": {
    "scrolled": false
   },
   "outputs": [],
   "source": [
    "%%time\n",
    "\n",
    "position = nx.spring_layout(reddit_graph, k=2, iterations=100)   \n",
    "# position = nx.random_layout(reddit_graph)   \n",
    "\n",
    "nx.draw_networkx_nodes(reddit_graph, position, node_color='r', node_size=500, alpha=0.5)\n",
    "nx.draw_networkx_edges(reddit_graph, position, width=1.0, alpha=0.1)\n",
    "# nx.draw_networkx_labels(reddit_graph, position, font_size=20, font_weight='bold')\n",
    "\n",
    "\n",
    "plt.axis('off')\n",
    "plt.tight_layout()\n",
    "\n",
    "plt.savefig('presentation/subreddit_graph.png')"
   ]
  },
  {
   "cell_type": "code",
   "execution_count": null,
   "metadata": {},
   "outputs": [],
   "source": []
  }
 ],
 "metadata": {
  "kernelspec": {
   "display_name": "Python 3",
   "language": "python",
   "name": "python3"
  },
  "language_info": {
   "codemirror_mode": {
    "name": "ipython",
    "version": 3
   },
   "file_extension": ".py",
   "mimetype": "text/x-python",
   "name": "python",
   "nbconvert_exporter": "python",
   "pygments_lexer": "ipython3",
   "version": "3.6.2"
  }
 },
 "nbformat": 4,
 "nbformat_minor": 2
}
