{
 "cells": [
  {
   "cell_type": "markdown",
   "metadata": {},
   "source": [
    "# Clean Data"
   ]
  },
  {
   "cell_type": "code",
   "execution_count": 1,
   "metadata": {},
   "outputs": [],
   "source": [
    "import pandas as pd\n",
    "import numpy as np\n",
    "import datetime\n",
    "import copy\n",
    "import os\n",
    "import re\n",
    "\n",
    "today = datetime.date.today()"
   ]
  },
  {
   "cell_type": "code",
   "execution_count": 3,
   "metadata": {},
   "outputs": [
    {
     "data": {
      "text/plain": [
       "(997, 15)"
      ]
     },
     "execution_count": 3,
     "metadata": {},
     "output_type": "execute_result"
    }
   ],
   "source": [
    "# chunks = pd.read_csv('../raw_data/scraped_data.csv', chunksize=10000)\n",
    "chunks = pd.read_csv('../backup_data/backup_data_14.csv', chunksize=10000)  # data copied from desktop\n",
    "\n",
    "df = pd.concat(chunks, ignore_index=True)\n",
    "\n",
    "df.to_csv('../backup_data/backup_data_{}.csv'.format(len(os.listdir('../backup_data/'))))  # create back up of csv\n",
    "\n",
    "df.shape"
   ]
  },
  {
   "cell_type": "code",
   "execution_count": null,
   "metadata": {},
   "outputs": [],
   "source": [
    "try:\n",
    "    df.drop('Unnamed: 0', axis=1, inplace=True)\n",
    "except:\n",
    "    pass"
   ]
  },
  {
   "cell_type": "code",
   "execution_count": null,
   "metadata": {
    "scrolled": false
   },
   "outputs": [],
   "source": [
    "df.head()"
   ]
  },
  {
   "cell_type": "code",
   "execution_count": null,
   "metadata": {},
   "outputs": [],
   "source": [
    "print('Subreddits: {}'.format(len(df['subreddit'].unique())))\n",
    "print(df['subreddit'].unique())"
   ]
  },
  {
   "cell_type": "code",
   "execution_count": null,
   "metadata": {},
   "outputs": [],
   "source": [
    "print('Users: {}'.format(len(df['author'].unique())))\n",
    "print(df['author'].unique())"
   ]
  },
  {
   "cell_type": "code",
   "execution_count": null,
   "metadata": {
    "scrolled": true
   },
   "outputs": [],
   "source": [
    "df = df.drop_duplicates(['author', 'post_id'], keep='last')\n",
    "df = df[df['author'] != 'AutoModerator']  # remove posts from the moderator bot\n",
    "df.shape"
   ]
  },
  {
   "cell_type": "code",
   "execution_count": null,
   "metadata": {},
   "outputs": [],
   "source": []
  },
  {
   "cell_type": "code",
   "execution_count": null,
   "metadata": {},
   "outputs": [],
   "source": [
    "="
   ]
  },
  {
   "cell_type": "code",
   "execution_count": null,
   "metadata": {},
   "outputs": [],
   "source": [
    "df.describe()"
   ]
  },
  {
   "cell_type": "code",
   "execution_count": null,
   "metadata": {
    "scrolled": true
   },
   "outputs": [],
   "source": [
    "df['author'].value_counts().head(10)"
   ]
  },
  {
   "cell_type": "code",
   "execution_count": null,
   "metadata": {},
   "outputs": [],
   "source": [
    "df['title'] = [re.sub(r'([a-z](?=[A-Z])|[A-Z](?=[A-Z][a-z]))', r'\\1 ', re.sub(\"([\\(\\[]).*?([\\)\\]])\", \"\\g<1>\\g<2>\", title)).replace('()', '') for title in df['title'].values]"
   ]
  },
  {
   "cell_type": "code",
   "execution_count": null,
   "metadata": {
    "scrolled": false
   },
   "outputs": [],
   "source": [
    "from emoji import UNICODE_EMOJI\n",
    "\n",
    "type(UNICODE_EMOJI)\n",
    "\n",
    "def has_emoji(text):\n",
    "    emoji = 0\n",
    "    try:\n",
    "        for i in text:\n",
    "            if i in UNICODE_EMOJI.keys():\n",
    "                emoji = 1\n",
    "                break\n",
    "    except:\n",
    "        pass\n",
    "    return emoji\n",
    "        \n",
    "    \n",
    "df['has_emoji'] = df['title'].apply(has_emoji)"
   ]
  },
  {
   "cell_type": "code",
   "execution_count": null,
   "metadata": {
    "scrolled": true
   },
   "outputs": [],
   "source": [
    "df[df['has_emoji'] == 1].head(1)"
   ]
  },
  {
   "cell_type": "code",
   "execution_count": null,
   "metadata": {},
   "outputs": [],
   "source": [
    "def outside_content(content):\n",
    "    outside = 0\n",
    "    if content[1] != 'r':\n",
    "        outside = 1\n",
    "    return outside\n",
    "\n",
    "df['outside_content'] = df['content'].apply(outside_content)"
   ]
  },
  {
   "cell_type": "code",
   "execution_count": null,
   "metadata": {},
   "outputs": [],
   "source": [
    "df.head()"
   ]
  },
  {
   "cell_type": "code",
   "execution_count": null,
   "metadata": {},
   "outputs": [],
   "source": [
    "def is_question(title):\n",
    "    question = 0\n",
    "    if '?' in title:\n",
    "        question = 1\n",
    "    return question\n",
    "\n",
    "df['is_question'] = df['title'].apply(is_question)"
   ]
  },
  {
   "cell_type": "code",
   "execution_count": null,
   "metadata": {},
   "outputs": [],
   "source": [
    "df.head()"
   ]
  },
  {
   "cell_type": "code",
   "execution_count": null,
   "metadata": {},
   "outputs": [],
   "source": [
    "df['scrape_time'] = df['scrape_time'].apply(datetime.datetime.fromtimestamp)"
   ]
  },
  {
   "cell_type": "code",
   "execution_count": null,
   "metadata": {},
   "outputs": [],
   "source": [
    "df['post_time'] = df['post_time']/1000\n",
    "df['post_time'] = df['post_time'].apply(datetime.datetime.fromtimestamp)\n",
    "\n",
    "df['elapsed_time'] = df['scrape_time'] - df['post_time']\n",
    "df['minutes_since_post'] = df['elapsed_time'].dt.total_seconds()/60"
   ]
  },
  {
   "cell_type": "code",
   "execution_count": null,
   "metadata": {},
   "outputs": [],
   "source": [
    "defaults = ['r/announcements/', 'r/Art', 'r/AskReddit', 'r/askscience', 'r/aww', 'r/blog', 'r/books', 'r/creepy',\n",
    "            'r/dataisbeautiful', 'r/DIY', 'r/Documentaries', 'r/EarthPorn', 'r/explainlikeimfive', 'r/food', \n",
    "            'r/funny', 'r/Futurology', 'r/gadgets', 'r/gaming', 'r/GetMotivated', 'r/gifs', 'r/history', 'r/IAmA',\n",
    "            'r/InternetIsBeautiful', 'r/Jokes', 'r/LifeProTips', 'r/listentothis', 'r/mildlyinteresting', 'r/movies',\n",
    "            'r/Music', 'r/news', 'r/nosleep', 'r/nottheonion', 'r/OldSchoolCool', 'r/personalfinance', 'r/philosophy',\n",
    "            'r/photoshopbattles', 'r/pics', 'r/science', 'r/Showerthoughts', 'r/space', 'r/sports', 'r/television',\n",
    "            'r/tifu', 'r/todayilearned', 'r/UpliftingNews', 'r/videos', 'r/worldnews']\n",
    "\n",
    "def default_subreddit(subreddit):\n",
    "    is_default = 0\n",
    "    if subreddit in defaults:\n",
    "        is_default = 1\n",
    "    return is_default\n",
    "\n",
    "df['default_subreddit'] = df['subreddit'].apply(default_subreddit)"
   ]
  },
  {
   "cell_type": "code",
   "execution_count": null,
   "metadata": {},
   "outputs": [],
   "source": [
    "df[df['default_subreddit'] == 1].head(1)"
   ]
  },
  {
   "cell_type": "code",
   "execution_count": null,
   "metadata": {},
   "outputs": [],
   "source": [
    "if not os.path.isfile('../cleaned_data/cleaned_data.csv'):\n",
    "    print(\"\\nNEW FILE\\n\")\n",
    "    df.to_csv('../cleaned_data/cleaned_data.csv', index=False)\n",
    "else:\n",
    "    df.to_csv('../cleaned_data/cleaned_data.csv', mode='a', index=False, header=False)"
   ]
  },
  {
   "cell_type": "code",
   "execution_count": null,
   "metadata": {},
   "outputs": [],
   "source": [
    "clean_data = pd.read_csv('../cleaned_data/cleaned_data.csv')\n",
    "\n",
    "clean_data.sort_values('scrape_time', inplace=True)\n",
    "\n",
    "clean_data.drop_duplicates('post_id', keep='last', inplace=True)"
   ]
  },
  {
   "cell_type": "code",
   "execution_count": null,
   "metadata": {},
   "outputs": [],
   "source": [
    "clean_data.shape"
   ]
  },
  {
   "cell_type": "code",
   "execution_count": null,
   "metadata": {},
   "outputs": [],
   "source": [
    "clean_data.to_csv('/data/reddit_data.csv', index=False)"
   ]
  }
 ],
 "metadata": {
  "kernelspec": {
   "display_name": "Python 3",
   "language": "python",
   "name": "python3"
  },
  "language_info": {
   "codemirror_mode": {
    "name": "ipython",
    "version": 3
   },
   "file_extension": ".py",
   "mimetype": "text/x-python",
   "name": "python",
   "nbconvert_exporter": "python",
   "pygments_lexer": "ipython3",
   "version": "3.6.2"
  }
 },
 "nbformat": 4,
 "nbformat_minor": 2
}
