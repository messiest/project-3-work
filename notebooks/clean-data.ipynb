{
 "cells": [
  {
   "cell_type": "markdown",
   "metadata": {},
   "source": [
    "# Clean Data"
   ]
  },
  {
   "cell_type": "code",
   "execution_count": 1,
   "metadata": {},
   "outputs": [],
   "source": [
    "import pandas as pd\n",
    "import numpy as np\n",
    "import datetime\n",
    "import copy\n",
    "import os\n",
    "import re\n",
    "\n",
    "today = datetime.date.today()"
   ]
  },
  {
   "cell_type": "code",
   "execution_count": 4,
   "metadata": {},
   "outputs": [
    {
     "data": {
      "text/plain": [
       "(4409663, 16)"
      ]
     },
     "execution_count": 4,
     "metadata": {},
     "output_type": "execute_result"
    }
   ],
   "source": [
    "# chunks = pd.read_csv('../raw_data/scraped_data.csv', chunksize=10000)\n",
    "chunks = pd.read_csv('../backup_data/backup_data_14.csv', chunksize=10000)  # data copied from desktop\n",
    "\n",
    "df = pd.concat(chunks, ignore_index=True)\n",
    "\n",
    "df.to_csv('../backup_data/backup_data_{}.csv'.format(len(os.listdir('../backup_data/'))))  # create back up of csv\n",
    "\n",
    "df.shape"
   ]
  },
  {
   "cell_type": "code",
   "execution_count": 5,
   "metadata": {},
   "outputs": [],
   "source": [
    "try:\n",
    "    df.drop('Unnamed: 0', axis=1, inplace=True)\n",
    "except:\n",
    "    pass"
   ]
  },
  {
   "cell_type": "code",
   "execution_count": 6,
   "metadata": {
    "scrolled": false
   },
   "outputs": [
    {
     "data": {
      "text/html": [
       "<div>\n",
       "<style>\n",
       "    .dataframe thead tr:only-child th {\n",
       "        text-align: right;\n",
       "    }\n",
       "\n",
       "    .dataframe thead th {\n",
       "        text-align: left;\n",
       "    }\n",
       "\n",
       "    .dataframe tbody tr th {\n",
       "        vertical-align: top;\n",
       "    }\n",
       "</style>\n",
       "<table border=\"1\" class=\"dataframe\">\n",
       "  <thead>\n",
       "    <tr style=\"text-align: right;\">\n",
       "      <th></th>\n",
       "      <th>author</th>\n",
       "      <th>comment_karma</th>\n",
       "      <th>comments</th>\n",
       "      <th>content</th>\n",
       "      <th>crossposts</th>\n",
       "      <th>karma</th>\n",
       "      <th>link</th>\n",
       "      <th>post_id</th>\n",
       "      <th>post_time</th>\n",
       "      <th>score</th>\n",
       "      <th>scrape_time</th>\n",
       "      <th>subreddit</th>\n",
       "      <th>subreddit_rank</th>\n",
       "      <th>subscriptions</th>\n",
       "      <th>title</th>\n",
       "    </tr>\n",
       "  </thead>\n",
       "  <tbody>\n",
       "    <tr>\n",
       "      <th>0</th>\n",
       "      <td>jonashendrickx</td>\n",
       "      <td>NaN</td>\n",
       "      <td>347</td>\n",
       "      <td>/r/thinkpad/comments/74drfl/thinkpad_25_discus...</td>\n",
       "      <td>0</td>\n",
       "      <td>NaN</td>\n",
       "      <td>/r/thinkpad/comments/74drfl/thinkpad_25_discus...</td>\n",
       "      <td>t3_74drfl</td>\n",
       "      <td>1507178424000</td>\n",
       "      <td>87.0</td>\n",
       "      <td>1.509491e+09</td>\n",
       "      <td>r/thinkpad</td>\n",
       "      <td>3637.0</td>\n",
       "      <td>21512.0</td>\n",
       "      <td>ThinkPad 25 Discussion Thread (Release Oct 5) ...</td>\n",
       "    </tr>\n",
       "    <tr>\n",
       "      <th>1</th>\n",
       "      <td>MercGaberkles</td>\n",
       "      <td>NaN</td>\n",
       "      <td>4</td>\n",
       "      <td>https://i.redd.it/bwujg5tvn7vz.jpg</td>\n",
       "      <td>0</td>\n",
       "      <td>NaN</td>\n",
       "      <td>/r/thinkpad/comments/79xuvy/happy_halloween_rt...</td>\n",
       "      <td>t3_79xuvy</td>\n",
       "      <td>1509475415000</td>\n",
       "      <td>50.0</td>\n",
       "      <td>1.509491e+09</td>\n",
       "      <td>r/thinkpad</td>\n",
       "      <td>3637.0</td>\n",
       "      <td>21512.0</td>\n",
       "      <td>Happy Halloween r/ThinkPad! (i.redd.it)</td>\n",
       "    </tr>\n",
       "    <tr>\n",
       "      <th>2</th>\n",
       "      <td>dan988</td>\n",
       "      <td>NaN</td>\n",
       "      <td>68</td>\n",
       "      <td>https://i.redd.it/vqqssqp9k5vz.jpg</td>\n",
       "      <td>0</td>\n",
       "      <td>NaN</td>\n",
       "      <td>/r/thinkpad/comments/79v62u/swapped_out_an_xps...</td>\n",
       "      <td>t3_79v62u</td>\n",
       "      <td>1509450227000</td>\n",
       "      <td>63.0</td>\n",
       "      <td>1.509491e+09</td>\n",
       "      <td>r/thinkpad</td>\n",
       "      <td>3637.0</td>\n",
       "      <td>21512.0</td>\n",
       "      <td>Swapped out an XPS13 for this! (i.redd.it)</td>\n",
       "    </tr>\n",
       "    <tr>\n",
       "      <th>3</th>\n",
       "      <td>MUnderwoodBarcode</td>\n",
       "      <td>NaN</td>\n",
       "      <td>5</td>\n",
       "      <td>https://imgur.com/gallery/pxGGU</td>\n",
       "      <td>0</td>\n",
       "      <td>NaN</td>\n",
       "      <td>/r/thinkpad/comments/79yy81/spotted_joe_rogans...</td>\n",
       "      <td>t3_79yy81</td>\n",
       "      <td>1509484723000</td>\n",
       "      <td>NaN</td>\n",
       "      <td>1.509491e+09</td>\n",
       "      <td>r/thinkpad</td>\n",
       "      <td>3637.0</td>\n",
       "      <td>21512.0</td>\n",
       "      <td>Spotted Joe Rogan's TP (imgur.com)</td>\n",
       "    </tr>\n",
       "    <tr>\n",
       "      <th>4</th>\n",
       "      <td>Hotshot9146</td>\n",
       "      <td>NaN</td>\n",
       "      <td>3</td>\n",
       "      <td>https://imgur.com/gallery/cBj6E</td>\n",
       "      <td>0</td>\n",
       "      <td>NaN</td>\n",
       "      <td>/r/thinkpad/comments/79z1d7/mint_x61_for_now_ʖ...</td>\n",
       "      <td>t3_79z1d7</td>\n",
       "      <td>1509485487000</td>\n",
       "      <td>NaN</td>\n",
       "      <td>1.509491e+09</td>\n",
       "      <td>r/thinkpad</td>\n",
       "      <td>3637.0</td>\n",
       "      <td>21512.0</td>\n",
       "      <td>Mint X61... for now ( ͡~ ͜ʖ ͡°) $60 for it, de...</td>\n",
       "    </tr>\n",
       "  </tbody>\n",
       "</table>\n",
       "</div>"
      ],
      "text/plain": [
       "              author  comment_karma  comments  \\\n",
       "0     jonashendrickx            NaN       347   \n",
       "1      MercGaberkles            NaN         4   \n",
       "2             dan988            NaN        68   \n",
       "3  MUnderwoodBarcode            NaN         5   \n",
       "4        Hotshot9146            NaN         3   \n",
       "\n",
       "                                             content  crossposts  karma  \\\n",
       "0  /r/thinkpad/comments/74drfl/thinkpad_25_discus...           0    NaN   \n",
       "1                 https://i.redd.it/bwujg5tvn7vz.jpg           0    NaN   \n",
       "2                 https://i.redd.it/vqqssqp9k5vz.jpg           0    NaN   \n",
       "3                    https://imgur.com/gallery/pxGGU           0    NaN   \n",
       "4                    https://imgur.com/gallery/cBj6E           0    NaN   \n",
       "\n",
       "                                                link    post_id  \\\n",
       "0  /r/thinkpad/comments/74drfl/thinkpad_25_discus...  t3_74drfl   \n",
       "1  /r/thinkpad/comments/79xuvy/happy_halloween_rt...  t3_79xuvy   \n",
       "2  /r/thinkpad/comments/79v62u/swapped_out_an_xps...  t3_79v62u   \n",
       "3  /r/thinkpad/comments/79yy81/spotted_joe_rogans...  t3_79yy81   \n",
       "4  /r/thinkpad/comments/79z1d7/mint_x61_for_now_ʖ...  t3_79z1d7   \n",
       "\n",
       "       post_time  score   scrape_time   subreddit  subreddit_rank  \\\n",
       "0  1507178424000   87.0  1.509491e+09  r/thinkpad          3637.0   \n",
       "1  1509475415000   50.0  1.509491e+09  r/thinkpad          3637.0   \n",
       "2  1509450227000   63.0  1.509491e+09  r/thinkpad          3637.0   \n",
       "3  1509484723000    NaN  1.509491e+09  r/thinkpad          3637.0   \n",
       "4  1509485487000    NaN  1.509491e+09  r/thinkpad          3637.0   \n",
       "\n",
       "   subscriptions                                              title  \n",
       "0        21512.0  ThinkPad 25 Discussion Thread (Release Oct 5) ...  \n",
       "1        21512.0            Happy Halloween r/ThinkPad! (i.redd.it)  \n",
       "2        21512.0         Swapped out an XPS13 for this! (i.redd.it)  \n",
       "3        21512.0                 Spotted Joe Rogan's TP (imgur.com)  \n",
       "4        21512.0  Mint X61... for now ( ͡~ ͜ʖ ͡°) $60 for it, de...  "
      ]
     },
     "execution_count": 6,
     "metadata": {},
     "output_type": "execute_result"
    }
   ],
   "source": [
    "df.head()"
   ]
  },
  {
   "cell_type": "code",
   "execution_count": 7,
   "metadata": {},
   "outputs": [
    {
     "name": "stdout",
     "output_type": "stream",
     "text": [
      "Subreddits: 2923\n",
      "['r/thinkpad' 'r/IWantOut' 'r/simpleliving' ..., 'r/Eve' 'r/ravens'\n",
      " 'r/Emma_Roberts']\n"
     ]
    }
   ],
   "source": [
    "print('Subreddits: {}'.format(len(df['subreddit'].unique())))\n",
    "print(df['subreddit'].unique())"
   ]
  },
  {
   "cell_type": "code",
   "execution_count": 8,
   "metadata": {},
   "outputs": [
    {
     "name": "stdout",
     "output_type": "stream",
     "text": [
      "Users: 1049005\n",
      "['jonashendrickx' 'MercGaberkles' 'dan988' ..., 'GeoTrip' 'ratchetassjimmy'\n",
      " 'ryeryebaby']\n"
     ]
    }
   ],
   "source": [
    "print('Users: {}'.format(len(df['author'].unique())))\n",
    "print(df['author'].unique())"
   ]
  },
  {
   "cell_type": "code",
   "execution_count": 9,
   "metadata": {
    "scrolled": true
   },
   "outputs": [
    {
     "data": {
      "text/plain": [
       "(2590769, 15)"
      ]
     },
     "execution_count": 9,
     "metadata": {},
     "output_type": "execute_result"
    }
   ],
   "source": [
    "df = df.drop_duplicates(['author', 'post_id'], keep='last')\n",
    "df = df[df['author'] != 'AutoModerator']  # remove posts from the moderator bot\n",
    "df.shape"
   ]
  },
  {
   "cell_type": "code",
   "execution_count": 12,
   "metadata": {},
   "outputs": [
    {
     "data": {
      "text/plain": [
       "42374242"
      ]
     },
     "execution_count": 12,
     "metadata": {},
     "output_type": "execute_result"
    }
   ],
   "source": [
    "df.comments.sum()"
   ]
  },
  {
   "cell_type": "code",
   "execution_count": null,
   "metadata": {},
   "outputs": [],
   "source": []
  },
  {
   "cell_type": "code",
   "execution_count": 10,
   "metadata": {},
   "outputs": [
    {
     "ename": "SyntaxError",
     "evalue": "invalid syntax (<ipython-input-10-9ae22869553b>, line 1)",
     "output_type": "error",
     "traceback": [
      "\u001b[0;36m  File \u001b[0;32m\"<ipython-input-10-9ae22869553b>\"\u001b[0;36m, line \u001b[0;32m1\u001b[0m\n\u001b[0;31m    =\u001b[0m\n\u001b[0m    ^\u001b[0m\n\u001b[0;31mSyntaxError\u001b[0m\u001b[0;31m:\u001b[0m invalid syntax\n"
     ]
    }
   ],
   "source": [
    "="
   ]
  },
  {
   "cell_type": "code",
   "execution_count": null,
   "metadata": {},
   "outputs": [],
   "source": [
    "df.describe()"
   ]
  },
  {
   "cell_type": "code",
   "execution_count": null,
   "metadata": {
    "scrolled": true
   },
   "outputs": [],
   "source": [
    "df['author'].value_counts().head(10)"
   ]
  },
  {
   "cell_type": "code",
   "execution_count": null,
   "metadata": {},
   "outputs": [],
   "source": [
    "df['title'] = [re.sub(r'([a-z](?=[A-Z])|[A-Z](?=[A-Z][a-z]))', r'\\1 ', re.sub(\"([\\(\\[]).*?([\\)\\]])\", \"\\g<1>\\g<2>\", title)).replace('()', '') for title in df['title'].values]"
   ]
  },
  {
   "cell_type": "code",
   "execution_count": null,
   "metadata": {
    "scrolled": false
   },
   "outputs": [],
   "source": [
    "from emoji import UNICODE_EMOJI\n",
    "\n",
    "type(UNICODE_EMOJI)\n",
    "\n",
    "def has_emoji(text):\n",
    "    emoji = 0\n",
    "    try:\n",
    "        for i in text:\n",
    "            if i in UNICODE_EMOJI.keys():\n",
    "                emoji = 1\n",
    "                break\n",
    "    except:\n",
    "        pass\n",
    "    return emoji\n",
    "        \n",
    "    \n",
    "df['has_emoji'] = df['title'].apply(has_emoji)"
   ]
  },
  {
   "cell_type": "code",
   "execution_count": null,
   "metadata": {
    "scrolled": true
   },
   "outputs": [],
   "source": [
    "df[df['has_emoji'] == 1].head(1)"
   ]
  },
  {
   "cell_type": "code",
   "execution_count": null,
   "metadata": {},
   "outputs": [],
   "source": [
    "def outside_content(content):\n",
    "    outside = 0\n",
    "    if content[1] != 'r':\n",
    "        outside = 1\n",
    "    return outside\n",
    "\n",
    "df['outside_content'] = df['content'].apply(outside_content)"
   ]
  },
  {
   "cell_type": "code",
   "execution_count": null,
   "metadata": {},
   "outputs": [],
   "source": [
    "df.head()"
   ]
  },
  {
   "cell_type": "code",
   "execution_count": null,
   "metadata": {},
   "outputs": [],
   "source": [
    "def is_question(title):\n",
    "    question = 0\n",
    "    if '?' in title:\n",
    "        question = 1\n",
    "    return question\n",
    "\n",
    "df['is_question'] = df['title'].apply(is_question)"
   ]
  },
  {
   "cell_type": "code",
   "execution_count": null,
   "metadata": {},
   "outputs": [],
   "source": [
    "df.head()"
   ]
  },
  {
   "cell_type": "code",
   "execution_count": null,
   "metadata": {},
   "outputs": [],
   "source": [
    "df['scrape_time'] = df['scrape_time'].apply(datetime.datetime.fromtimestamp)"
   ]
  },
  {
   "cell_type": "code",
   "execution_count": null,
   "metadata": {},
   "outputs": [],
   "source": [
    "df['post_time'] = df['post_time']/1000\n",
    "df['post_time'] = df['post_time'].apply(datetime.datetime.fromtimestamp)\n",
    "\n",
    "df['elapsed_time'] = df['scrape_time'] - df['post_time']\n",
    "df['minutes_since_post'] = df['elapsed_time'].dt.total_seconds()/60"
   ]
  },
  {
   "cell_type": "code",
   "execution_count": null,
   "metadata": {},
   "outputs": [],
   "source": [
    "defaults = ['r/announcements/', 'r/Art', 'r/AskReddit', 'r/askscience', 'r/aww', 'r/blog', 'r/books', 'r/creepy',\n",
    "            'r/dataisbeautiful', 'r/DIY', 'r/Documentaries', 'r/EarthPorn', 'r/explainlikeimfive', 'r/food', \n",
    "            'r/funny', 'r/Futurology', 'r/gadgets', 'r/gaming', 'r/GetMotivated', 'r/gifs', 'r/history', 'r/IAmA',\n",
    "            'r/InternetIsBeautiful', 'r/Jokes', 'r/LifeProTips', 'r/listentothis', 'r/mildlyinteresting', 'r/movies',\n",
    "            'r/Music', 'r/news', 'r/nosleep', 'r/nottheonion', 'r/OldSchoolCool', 'r/personalfinance', 'r/philosophy',\n",
    "            'r/photoshopbattles', 'r/pics', 'r/science', 'r/Showerthoughts', 'r/space', 'r/sports', 'r/television',\n",
    "            'r/tifu', 'r/todayilearned', 'r/UpliftingNews', 'r/videos', 'r/worldnews']\n",
    "\n",
    "def default_subreddit(subreddit):\n",
    "    is_default = 0\n",
    "    if subreddit in defaults:\n",
    "        is_default = 1\n",
    "    return is_default\n",
    "\n",
    "df['default_subreddit'] = df['subreddit'].apply(default_subreddit)"
   ]
  },
  {
   "cell_type": "code",
   "execution_count": null,
   "metadata": {},
   "outputs": [],
   "source": [
    "df[df['default_subreddit'] == 1].head(1)"
   ]
  },
  {
   "cell_type": "code",
   "execution_count": null,
   "metadata": {},
   "outputs": [],
   "source": [
    "if not os.path.isfile('../cleaned_data/cleaned_data.csv'):\n",
    "    print(\"\\nNEW FILE\\n\")\n",
    "    df.to_csv('../cleaned_data/cleaned_data.csv', index=False)\n",
    "else:\n",
    "    df.to_csv('../cleaned_data/cleaned_data.csv', mode='a', index=False, header=False)"
   ]
  },
  {
   "cell_type": "code",
   "execution_count": null,
   "metadata": {},
   "outputs": [],
   "source": [
    "clean_data = pd.read_csv('../cleaned_data/cleaned_data.csv')\n",
    "\n",
    "clean_data.sort_values('scrape_time', inplace=True)\n",
    "\n",
    "clean_data.drop_duplicates('post_id', keep='last', inplace=True)"
   ]
  },
  {
   "cell_type": "code",
   "execution_count": null,
   "metadata": {},
   "outputs": [],
   "source": [
    "clean_data.shape"
   ]
  },
  {
   "cell_type": "code",
   "execution_count": null,
   "metadata": {},
   "outputs": [],
   "source": [
    "clean_data.to_csv('/data/reddit_data.csv', index=False)"
   ]
  }
 ],
 "metadata": {
  "kernelspec": {
   "display_name": "Python 3",
   "language": "python",
   "name": "python3"
  },
  "language_info": {
   "codemirror_mode": {
    "name": "ipython",
    "version": 3
   },
   "file_extension": ".py",
   "mimetype": "text/x-python",
   "name": "python",
   "nbconvert_exporter": "python",
   "pygments_lexer": "ipython3",
   "version": "3.6.2"
  }
 },
 "nbformat": 4,
 "nbformat_minor": 2
}
