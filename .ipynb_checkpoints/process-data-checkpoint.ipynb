{
 "cells": [
  {
   "cell_type": "markdown",
   "metadata": {},
   "source": [
    "# Process Data"
   ]
  },
  {
   "cell_type": "markdown",
   "metadata": {},
   "source": [
    "Pipeline for building training and testing data."
   ]
  },
  {
   "cell_type": "code",
   "execution_count": 1,
   "metadata": {},
   "outputs": [],
   "source": [
    "% matplotlib inline\n",
    "\n",
    "import pandas as pd\n",
    "import numpy as np\n",
    "\n",
    "sampling = False"
   ]
  },
  {
   "cell_type": "code",
   "execution_count": 2,
   "metadata": {},
   "outputs": [],
   "source": [
    "df = pd.read_csv('cleaned_data/processed_data.csv')\n",
    "\n",
    "df = df.drop_duplicates('post_id', keep='last')"
   ]
  },
  {
   "cell_type": "code",
   "execution_count": 4,
   "metadata": {},
   "outputs": [],
   "source": [
    "if sampling:\n",
    "    df = df.sample(frac=.1)  # use 10% sample for build phase"
   ]
  },
  {
   "cell_type": "code",
   "execution_count": 5,
   "metadata": {
    "scrolled": true
   },
   "outputs": [
    {
     "data": {
      "text/plain": [
       "(2225549, 21)"
      ]
     },
     "execution_count": 5,
     "metadata": {},
     "output_type": "execute_result"
    }
   ],
   "source": [
    "df.shape"
   ]
  },
  {
   "cell_type": "code",
   "execution_count": 8,
   "metadata": {},
   "outputs": [],
   "source": [
    "df = df.drop(['karma', 'comment_karma'], axis=1)"
   ]
  },
  {
   "cell_type": "markdown",
   "metadata": {},
   "source": [
    "### Feature Engineering"
   ]
  },
  {
   "cell_type": "markdown",
   "metadata": {},
   "source": [
    "#### Generate the response vector"
   ]
  },
  {
   "cell_type": "code",
   "execution_count": 9,
   "metadata": {},
   "outputs": [
    {
     "data": {
      "text/html": [
       "<div>\n",
       "<style>\n",
       "    .dataframe thead tr:only-child th {\n",
       "        text-align: right;\n",
       "    }\n",
       "\n",
       "    .dataframe thead th {\n",
       "        text-align: left;\n",
       "    }\n",
       "\n",
       "    .dataframe tbody tr th {\n",
       "        vertical-align: top;\n",
       "    }\n",
       "</style>\n",
       "<table border=\"1\" class=\"dataframe\">\n",
       "  <thead>\n",
       "    <tr style=\"text-align: right;\">\n",
       "      <th>subreddit</th>\n",
       "      <th>r/100yearsago</th>\n",
       "      <th>r/1200isjerky</th>\n",
       "      <th>r/13ReasonsWhy</th>\n",
       "      <th>r/13or30</th>\n",
       "      <th>r/195</th>\n",
       "      <th>r/19KidsandCounting</th>\n",
       "      <th>r/2007scape</th>\n",
       "      <th>r/2juicy4bones</th>\n",
       "      <th>r/2meirl42meirl4meirl</th>\n",
       "      <th>r/30ROCK</th>\n",
       "      <th>...</th>\n",
       "      <th>r/xmen</th>\n",
       "      <th>r/yesyesyesno</th>\n",
       "      <th>r/yesyesyesyesno</th>\n",
       "      <th>r/yorku</th>\n",
       "      <th>r/youdontsurf</th>\n",
       "      <th>r/youseeingthisshit</th>\n",
       "      <th>r/youtube</th>\n",
       "      <th>r/youtubehaiku</th>\n",
       "      <th>r/yuruyuri</th>\n",
       "      <th>r/zen</th>\n",
       "    </tr>\n",
       "    <tr>\n",
       "      <th>0.9</th>\n",
       "      <th></th>\n",
       "      <th></th>\n",
       "      <th></th>\n",
       "      <th></th>\n",
       "      <th></th>\n",
       "      <th></th>\n",
       "      <th></th>\n",
       "      <th></th>\n",
       "      <th></th>\n",
       "      <th></th>\n",
       "      <th></th>\n",
       "      <th></th>\n",
       "      <th></th>\n",
       "      <th></th>\n",
       "      <th></th>\n",
       "      <th></th>\n",
       "      <th></th>\n",
       "      <th></th>\n",
       "      <th></th>\n",
       "      <th></th>\n",
       "      <th></th>\n",
       "    </tr>\n",
       "  </thead>\n",
       "  <tbody>\n",
       "    <tr>\n",
       "      <th>comments</th>\n",
       "      <td>3.0</td>\n",
       "      <td>15.0</td>\n",
       "      <td>23.0</td>\n",
       "      <td>30.1</td>\n",
       "      <td>2.0</td>\n",
       "      <td>33.0</td>\n",
       "      <td>31.0</td>\n",
       "      <td>12.1</td>\n",
       "      <td>20.9</td>\n",
       "      <td>25.0</td>\n",
       "      <td>...</td>\n",
       "      <td>23.0</td>\n",
       "      <td>26.0</td>\n",
       "      <td>31.0</td>\n",
       "      <td>13.0</td>\n",
       "      <td>84.8</td>\n",
       "      <td>118.0</td>\n",
       "      <td>12.0</td>\n",
       "      <td>30.0</td>\n",
       "      <td>13.0</td>\n",
       "      <td>102.4</td>\n",
       "    </tr>\n",
       "  </tbody>\n",
       "</table>\n",
       "<p>1 rows × 2584 columns</p>\n",
       "</div>"
      ],
      "text/plain": [
       "subreddit  r/100yearsago  r/1200isjerky  r/13ReasonsWhy  r/13or30  r/195  \\\n",
       "0.9                                                                        \n",
       "comments             3.0           15.0            23.0      30.1    2.0   \n",
       "\n",
       "subreddit  r/19KidsandCounting  r/2007scape  r/2juicy4bones  \\\n",
       "0.9                                                           \n",
       "comments                  33.0         31.0            12.1   \n",
       "\n",
       "subreddit  r/2meirl42meirl4meirl  r/30ROCK  ...    r/xmen  r/yesyesyesno  \\\n",
       "0.9                                         ...                            \n",
       "comments                    20.9      25.0  ...      23.0           26.0   \n",
       "\n",
       "subreddit  r/yesyesyesyesno  r/yorku  r/youdontsurf  r/youseeingthisshit  \\\n",
       "0.9                                                                        \n",
       "comments               31.0     13.0           84.8                118.0   \n",
       "\n",
       "subreddit  r/youtube  r/youtubehaiku  r/yuruyuri  r/zen  \n",
       "0.9                                                      \n",
       "comments        12.0            30.0        13.0  102.4  \n",
       "\n",
       "[1 rows x 2584 columns]"
      ]
     },
     "execution_count": 9,
     "metadata": {},
     "output_type": "execute_result"
    }
   ],
   "source": [
    "comment_threshold = df.groupby('subreddit').quantile(.9).reset_index()[['subreddit', 'comments']].set_index('subreddit').transpose()\n",
    "\n",
    "# comment_threshold.head()"
   ]
  },
  {
   "cell_type": "code",
   "execution_count": 10,
   "metadata": {},
   "outputs": [
    {
     "name": "stdout",
     "output_type": "stream",
     "text": [
      "CPU times: user 2min 44s, sys: 571 ms, total: 2min 45s\n",
      "Wall time: 2min 45s\n"
     ]
    }
   ],
   "source": [
    "%%time\n",
    "\n",
    "# response\n",
    "\n",
    "response = []\n",
    "\n",
    "for i, row in df.iterrows():\n",
    "    subreddit = row['subreddit']\n",
    "    comments = row['comments']\n",
    "    \n",
    "    is_greater = 0\n",
    "    if comments > comment_threshold[subreddit].values:\n",
    "        is_greater = 1\n",
    "        \n",
    "    response.append(is_greater)\n",
    "    \n",
    "\n",
    "df['response'] = response"
   ]
  },
  {
   "cell_type": "markdown",
   "metadata": {},
   "source": [
    "### Generate dummy variables"
   ]
  },
  {
   "cell_type": "code",
   "execution_count": 11,
   "metadata": {},
   "outputs": [],
   "source": [
    "df['title']\n",
    "df = df.dropna()"
   ]
  },
  {
   "cell_type": "code",
   "execution_count": 12,
   "metadata": {},
   "outputs": [
    {
     "data": {
      "text/plain": [
       "(2191475, 20)"
      ]
     },
     "execution_count": 12,
     "metadata": {},
     "output_type": "execute_result"
    }
   ],
   "source": [
    "df.shape"
   ]
  },
  {
   "cell_type": "code",
   "execution_count": 13,
   "metadata": {},
   "outputs": [],
   "source": [
    "subreddit_dummies = pd.get_dummies(df['subreddit'])"
   ]
  },
  {
   "cell_type": "markdown",
   "metadata": {},
   "source": [
    "## Sentiment Analysis on the Title"
   ]
  },
  {
   "cell_type": "code",
   "execution_count": 14,
   "metadata": {
    "scrolled": true
   },
   "outputs": [],
   "source": [
    "from nltk.sentiment.vader import SentimentIntensityAnalyzer as SIA\n",
    "\n",
    "sia = SIA()\n",
    "\n",
    "sentiment = df['title'].apply(sia.polarity_scores)\n",
    "\n",
    "sent = pd.DataFrame(list(sentiment))\n",
    "\n",
    "df = df.join(sent)"
   ]
  },
  {
   "cell_type": "markdown",
   "metadata": {},
   "source": [
    "## Setup Data"
   ]
  },
  {
   "cell_type": "code",
   "execution_count": 15,
   "metadata": {},
   "outputs": [],
   "source": [
    "to_drop = ['comments', 'response', 'author', 'content', 'link', 'post_id',\n",
    "           'subreddit', 'scrape_time', 'post_time', 'elapsed_time']\n",
    "\n",
    "df = df.drop(to_drop, axis=1)"
   ]
  },
  {
   "cell_type": "code",
   "execution_count": 16,
   "metadata": {},
   "outputs": [],
   "source": [
    "df = df.join(subreddit_dummies)"
   ]
  },
  {
   "cell_type": "code",
   "execution_count": 17,
   "metadata": {},
   "outputs": [
    {
     "data": {
      "text/plain": [
       "(2191475, 2575)"
      ]
     },
     "execution_count": 17,
     "metadata": {},
     "output_type": "execute_result"
    }
   ],
   "source": [
    "df.shape"
   ]
  },
  {
   "cell_type": "markdown",
   "metadata": {},
   "source": [
    "## Split Data"
   ]
  },
  {
   "cell_type": "code",
   "execution_count": 18,
   "metadata": {},
   "outputs": [],
   "source": [
    "from sklearn.model_selection import train_test_split\n",
    "\n",
    "df_train, df_test = train_test_split(df, test_size=0.3)  # 70/30 train/test split"
   ]
  },
  {
   "cell_type": "markdown",
   "metadata": {},
   "source": [
    "## NLP - TFIDF Vectorization"
   ]
  },
  {
   "cell_type": "code",
   "execution_count": 19,
   "metadata": {},
   "outputs": [],
   "source": [
    "from sklearn.feature_extraction.text import TfidfVectorizer\n",
    "\n",
    "tfidf_percent = 10\n",
    "\n",
    "\n",
    "tfidf = TfidfVectorizer(stop_words='english',\n",
    "                        strip_accents='unicode',\n",
    "                        max_features=df.shape[0]//tfidf_percent)\n",
    "\n",
    "tfidf.fit(df_train)\n",
    "\n",
    "tfidf_train = pd.DataFrame(tfidf.transform(df_train['title']).todense(), columns=tfidf.get_feature_names())\n",
    "tfidf_test = pd.DataFrame(tfidf.transform(df_test['title']).todense(), columns=tfidf.get_feature_names())"
   ]
  },
  {
   "cell_type": "code",
   "execution_count": 20,
   "metadata": {},
   "outputs": [],
   "source": [
    "df_train = df_train.drop('title', axis=1)\n",
    "df_test = df_test.drop('title', axis=1)"
   ]
  },
  {
   "cell_type": "code",
   "execution_count": null,
   "metadata": {},
   "outputs": [],
   "source": [
    "df_train = df_train.join(tfidf_train, lsuffix='_df')\n",
    "df_test = df_test.join(tfidf_test, lsuffix='_df')"
   ]
  },
  {
   "cell_type": "code",
   "execution_count": null,
   "metadata": {},
   "outputs": [],
   "source": [
    "df_train.fillna(0.0, inplace=True)\n",
    "df_test.fillna(0.0, inplace=True)"
   ]
  },
  {
   "cell_type": "code",
   "execution_count": null,
   "metadata": {},
   "outputs": [],
   "source": [
    "df_train.shape()"
   ]
  },
  {
   "cell_type": "code",
   "execution_count": null,
   "metadata": {},
   "outputs": [],
   "source": [
    "df_test.shape()"
   ]
  },
  {
   "cell_type": "code",
   "execution_count": null,
   "metadata": {},
   "outputs": [],
   "source": [
    "if not os.path.isfile('processed_data/train_data.csv'):\n",
    "    df_train.to_csv('processed_data/train_data.csv', index=False)\n",
    "else:\n",
    "    df_train.to_csv('processed_data/train_data.csv', mode='a', index=False, header=False)"
   ]
  },
  {
   "cell_type": "code",
   "execution_count": null,
   "metadata": {},
   "outputs": [],
   "source": [
    "if not os.path.isfile('processed_data/test_data.csv'):\n",
    "    df.to_csv('processed_data/test_data.csv', index=False)\n",
    "else:\n",
    "    df.to_csv('processed_data/test_data.csv', mode='a', index=False, header=False)"
   ]
  }
 ],
 "metadata": {
  "kernelspec": {
   "display_name": "Python 3",
   "language": "python",
   "name": "python3"
  },
  "language_info": {
   "codemirror_mode": {
    "name": "ipython",
    "version": 3
   },
   "file_extension": ".py",
   "mimetype": "text/x-python",
   "name": "python",
   "nbconvert_exporter": "python",
   "pygments_lexer": "ipython3",
   "version": "3.6.2"
  }
 },
 "nbformat": 4,
 "nbformat_minor": 2
}
